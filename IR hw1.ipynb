{
 "cells": [
  {
   "cell_type": "code",
   "execution_count": 1,
   "metadata": {
    "collapsed": true
   },
   "outputs": [],
   "source": [
    "%matplotlib inline\n",
    "\n",
    "import numpy as np\n",
    "import matplotlib.pyplot as plt\n",
    "import pandas as pd"
   ]
  },
  {
   "cell_type": "markdown",
   "metadata": {},
   "source": [
    "<h2> Информационный поиск. Домашняя работа 1 </h2>\n",
    "<h3> Валерий Дужик </h3>\n",
    "\n",
    "Сначала надо достать данные:"
   ]
  },
  {
   "cell_type": "code",
   "execution_count": 2,
   "metadata": {
    "collapsed": false
   },
   "outputs": [],
   "source": [
    "def parse(filename, fields):\n",
    "    result = []\n",
    "    d = {}\n",
    "    idx = 1\n",
    "    key, value = None, None \n",
    "    \n",
    "    with open(filename) as docs_file: \n",
    "        lines = docs_file.readlines()\n",
    "        for line in lines: \n",
    "            line = line[:-1]\n",
    "            if line.startswith('.I '):\n",
    "                if idx > 1:\n",
    "                    if not key is None:\n",
    "                        d[key] = '\\n'.join(value)\n",
    "                    result.append(d) \n",
    "                d = { 'idx' : idx }\n",
    "                d['.I'] = line[3:]\n",
    "                idx += 1\n",
    "                key, value = None, None \n",
    "                \n",
    "            elif line in fields:\n",
    "                if not key is None:\n",
    "                    d[key] = '\\n'.join(value)\n",
    "                key = line\n",
    "                value = []\n",
    "                \n",
    "            elif not value is None:\n",
    "                value.append(line)\n",
    "    \n",
    "    if 'idx' in d:\n",
    "        result.append(d)\n",
    "        \n",
    "    return result\n",
    "        \n",
    "docs = parse('data/cran.all.1400', ['.T', '.A', '.B', '.W'])\n",
    "queries = parse('data/cran.qry', ['.W'])\n",
    "\n",
    "assert(len(docs) == 1400)\n",
    "assert(docs[0]['.T'] == '''experimental investigation of the aerodynamics of a\\nwing in a slipstream .''')\n",
    "\n",
    "assert(len(queries) == 225)\n",
    "assert(queries[0]['.W'] == '''what similarity laws must be obeyed when constructing aeroelastic models\\nof heated high speed aircraft .''')"
   ]
  },
  {
   "cell_type": "markdown",
   "metadata": {},
   "source": [
    "Нормализовывать тексты я думаю как-то так:"
   ]
  },
  {
   "cell_type": "code",
   "execution_count": 3,
   "metadata": {
    "collapsed": false
   },
   "outputs": [
    {
     "name": "stdout",
     "output_type": "stream",
     "text": [
      "showing info https://raw.githubusercontent.com/nltk/nltk_data/gh-pages/index.xml\n"
     ]
    },
    {
     "data": {
      "text/plain": [
       "True"
      ]
     },
     "execution_count": 3,
     "metadata": {},
     "output_type": "execute_result"
    }
   ],
   "source": [
    "import nltk\n",
    "\n",
    "nltk.download()"
   ]
  },
  {
   "cell_type": "code",
   "execution_count": 56,
   "metadata": {
    "collapsed": false
   },
   "outputs": [
    {
     "data": {
      "text/plain": [
       "['experimental', 'investigation', 'aerodynamics', 'wing', 'slipstream']"
      ]
     },
     "execution_count": 56,
     "metadata": {},
     "output_type": "execute_result"
    }
   ],
   "source": [
    "from nltk.tokenize import word_tokenize\n",
    "\n",
    "from nltk.stem import WordNetLemmatizer\n",
    "from nltk.stem.snowball import SnowballStemmer\n",
    "\n",
    "from nltk.corpus import stopwords\n",
    "\n",
    "lemmatizer = WordNetLemmatizer()\n",
    "stemmer = SnowballStemmer('english', False)\n",
    "\n",
    "stop_words = set(stopwords.words('english'))\n",
    "\n",
    "def tokenize_and_normalize(text, stemming=True):\n",
    "    tokens = []\n",
    "    if stemming:\n",
    "        tokens = [stemmer.stem(token) for token in word_tokenize(text) if token.isalpha()]\n",
    "    else:\n",
    "        tokens = [lemmatizer.lemmatize(token) for token in word_tokenize(text) if token.isalpha()]\n",
    "        \n",
    "    return [token for token in tokens if not token in stop_words]\n",
    "\n",
    "split_and_normalize('experimental investigation of the aerodynamics of a\\nwing in a slipstream .', False)"
   ]
  },
  {
   "cell_type": "markdown",
   "metadata": {},
   "source": [
    "Приготовления закончены, можно строить индекс."
   ]
  },
  {
   "cell_type": "code",
   "execution_count": 122,
   "metadata": {
    "collapsed": false
   },
   "outputs": [],
   "source": [
    "from collections import Counter, defaultdict\n",
    "\n",
    "\n",
    "def build_inverse_index(data, field): \n",
    "    result = defaultdict(list)\n",
    "    lengths = {}\n",
    "    sum_lengths = 0\n",
    "    \n",
    "    for doc in data:\n",
    "        dId = int(doc['.I'])\n",
    "        if field in doc:\n",
    "            tokens = tokenize_and_normalize(doc[field])  \n",
    "            lengths[dId] = len(tokens)\n",
    "            sum_lengths += len(tokens) \n",
    "\n",
    "            counter = Counter(tokens)   \n",
    "            for token in counter:\n",
    "                result[token].append((dId, counter[token]))\n",
    "                 \n",
    "    return result, lengths, sum_lengths/len(lengths)"
   ]
  },
  {
   "cell_type": "code",
   "execution_count": 123,
   "metadata": {
    "collapsed": false
   },
   "outputs": [],
   "source": [
    "def GetL1Result(query_tokens, index):\n",
    "    result = defaultdict(dict)\n",
    "    \n",
    "    for token in query_tokens:\n",
    "        for df in index[token]:\n",
    "            result[df[0]][token] = df[1]\n",
    "            \n",
    "    return [(dId, defaultdict(float, result[dId])) for dId in result]"
   ]
  },
  {
   "cell_type": "code",
   "execution_count": 193,
   "metadata": {
    "collapsed": false
   },
   "outputs": [],
   "source": [
    "from math import log\n",
    "\n",
    "def CalcRSV(query_tokens, doc_match_dict, Nt, params):\n",
    "    b, k1 = params['b'], params['k1'] \n",
    "    L_rel = params['Ld'] / params['Lavg']\n",
    "    N = params['N']\n",
    "    res = None\n",
    "    if not 'k2' in params:\n",
    "        res = [log(1 + (N - Nt[token] + 0.5)/(Nt[token] + 0.5)) \\\n",
    "               * doc_match_dict[token]*(k1 + 1) / (k1 * (1 - b + b*L_rel) + doc_match_dict[token]) \\\n",
    "               for token in query_tokens]\n",
    "    else:\n",
    "        k2 = params['k2']\n",
    "        Fq = Counter(query_tokens)\n",
    "        \n",
    "        res = [log(1 + (N - Nt[token] + 0.5)/(Nt[token] + 0.5)) \\\n",
    "               * doc_match_dict[token]*(k1 + 1) / (k1 * (1 - b + b*L_rel) + doc_match_dict[token]) \\\n",
    "               * Fq[token]*(1 + k2) / (k2 + Fq[token]) \\\n",
    "               for token in Fq]\n",
    "    return sum(res)\n",
    "\n",
    "def GetTopRSV(query, index, lengths, avg_length, params):\n",
    "    params['N'] = len(lengths)\n",
    "    params['Lavg'] = avg_length\n",
    "    \n",
    "    query_tokens = tokenize_and_normalize(query) \n",
    "    Nt = { token : len(index[token]) for token in query_tokens }\n",
    "    \n",
    "    L1_result = GetL1Result(query_tokens, index)\n",
    "    \n",
    "    result = []\n",
    "    \n",
    "    for doc, match_dict in L1_result:\n",
    "        params['Ld'] = lengths[doc]\n",
    "        result.append((doc, CalcRSV(query_tokens, match_dict, Nt, params)))\n",
    "            \n",
    "    result.sort(key=lambda x : x[1], reverse=True) \n",
    "    return result[:10]"
   ]
  },
  {
   "cell_type": "code",
   "execution_count": 194,
   "metadata": {
    "collapsed": false
   },
   "outputs": [],
   "source": [
    "def GetQueriesTopRsv(for_all, b, k1, k2=None):\n",
    "    index, lengths, avg_length = None, None, None\n",
    "    if for_all:\n",
    "        index, lengths, avg_length = build_inverse_index(docs, '.W')\n",
    "    else:\n",
    "        index, lengths, avg_length = build_inverse_index(docs, '.T')\n",
    "    \n",
    "    params = {\n",
    "        'b' : b,\n",
    "        'k1' : k1\n",
    "    }\n",
    "    if not k2 is None:\n",
    "        params['k2'] = k2\n",
    "    \n",
    "    result = {}\n",
    "    for idx, query_rec in enumerate(queries):\n",
    "        if '.W' in query_rec:\n",
    "            top_relevant = GetTopRSV(query_rec['.W'], index, lengths, avg_length, params)\n",
    "            result[idx + 1] = [dId for dId, rel in top_relevant] \n",
    "            \n",
    "    return result\n",
    "    \n",
    "RSV_baseline_all = GetQueriesTopRsv(True, 0.75, 1.2)\n",
    "RSV_baseline_header = GetQueriesTopRsv(False, 0.75, 1.2)"
   ]
  },
  {
   "cell_type": "markdown",
   "metadata": {},
   "source": [
    "Для более удобного дальнейшего GridSearch вынесу eval.py сюда:"
   ]
  },
  {
   "cell_type": "code",
   "execution_count": 159,
   "metadata": {
    "collapsed": true
   },
   "outputs": [],
   "source": [
    "def Eval(q2retrd):\n",
    "    groundtruth_file = 'data/qrel_clean' \n",
    "\n",
    "    q2reld = {} \n",
    "    for line in open(groundtruth_file):\n",
    "        qid, did = [int(x) for x in line.split()]\n",
    "        if qid in q2reld.keys():\n",
    "            q2reld[qid].add(did)\n",
    "        else:\n",
    "            q2reld[qid] = set()\n",
    "\n",
    "    N = len(q2retrd.keys())\n",
    "    precision = sum([len(q2reld[q].intersection(q2retrd[q]))*1.0/len(q2retrd[q]) for q in q2retrd.keys()]) / N\n",
    "    recall = sum([len(q2reld[q].intersection(q2retrd[q]))*1.0/len(q2reld[q]) for q in q2retrd.keys()]) / N\n",
    "    print(\"mean precision: {}\\nmean recall: {}\\nmean F-measure: {}\"\\\n",
    "          .format(precision, recall, 2*precision*recall/(precision+recall)))\n",
    "\n",
    "    # MAP@10 \n",
    "\n",
    "    MAP = 0.0\n",
    "    for q in q2retrd.keys():\n",
    "        n_results = min(10, len(q2retrd[q]))\n",
    "        avep = np.zeros(n_results)\n",
    "        for i in range(n_results):\n",
    "            avep[i:] += q2retrd[q][i] in q2reld[q]\n",
    "            avep[i] *= (q2retrd[q][i] in q2reld[q]) / (i+1.0)\n",
    "        MAP += sum(avep) / min(n_results, len(q2reld[q]))\n",
    "    print(\"MAP@10: {}\".format(MAP/N))\n",
    "    \n",
    "\n",
    "# Для grid-search пригодится такая версия.\n",
    "def CalcMap10(q2retrd):\n",
    "    groundtruth_file = 'data/qrel_clean' \n",
    "\n",
    "    q2reld = {} \n",
    "    for line in open(groundtruth_file):\n",
    "        qid, did = [int(x) for x in line.split()]\n",
    "        if qid in q2reld.keys():\n",
    "            q2reld[qid].add(did)\n",
    "        else:\n",
    "            q2reld[qid] = set()\n",
    "            \n",
    "    N = len(q2retrd.keys())\n",
    "    \n",
    "    MAP = 0.0\n",
    "    for q in q2retrd.keys():\n",
    "        n_results = min(10, len(q2retrd[q]))\n",
    "        avep = np.zeros(n_results)\n",
    "        for i in range(n_results):\n",
    "            avep[i:] += q2retrd[q][i] in q2reld[q]\n",
    "            avep[i] *= (q2retrd[q][i] in q2reld[q]) / (i+1.0)\n",
    "        MAP += sum(avep) / min(n_results, len(q2reld[q]))\n",
    "    return MAP/N"
   ]
  },
  {
   "cell_type": "code",
   "execution_count": 185,
   "metadata": {
    "collapsed": false
   },
   "outputs": [
    {
     "name": "stdout",
     "output_type": "stream",
     "text": [
      "mean precision: 0.195089285714286\n",
      "mean recall: 0.34153334335896685\n",
      "mean F-measure: 0.24832905805177075\n",
      "MAP@10: 0.24925218223036563\n"
     ]
    }
   ],
   "source": [
    "Eval(RSV_baseline_header)"
   ]
  },
  {
   "cell_type": "code",
   "execution_count": 186,
   "metadata": {
    "collapsed": false
   },
   "outputs": [
    {
     "name": "stdout",
     "output_type": "stream",
     "text": [
      "mean precision: 0.23928571428571463\n",
      "mean recall: 0.415043741385878\n",
      "mean F-measure: 0.30355973510439327\n",
      "MAP@10: 0.3191615362249399\n"
     ]
    }
   ],
   "source": [
    "Eval(RSV_baseline_all)"
   ]
  },
  {
   "cell_type": "markdown",
   "metadata": {},
   "source": [
    "Какое-то невпечатляющее качество. Надеюсь, так и надо. \n",
    "Как бы то ни было, качество на полных аннотациях оказалось лучше. "
   ]
  },
  {
   "cell_type": "code",
   "execution_count": 164,
   "metadata": {
    "collapsed": false
   },
   "outputs": [],
   "source": [
    "nsteps = 10\n",
    "\n",
    "MAP10_RSV_all = np.zeros((nsteps,nsteps))\n",
    "\n",
    "for x, k1 in enumerate(np.linspace(1.2, 2., nsteps)):\n",
    "    for y, b in enumerate(np.linspace(0., 1., nsteps)): \n",
    "        MAP10_RSV_all[x, y] = CalcMap10(GetQueriesTopRsv(True, b, k1))"
   ]
  },
  {
   "cell_type": "code",
   "execution_count": 172,
   "metadata": {
    "collapsed": false
   },
   "outputs": [
    {
     "data": {
      "text/plain": [
       "<matplotlib.image.AxesImage at 0x12623bf98>"
      ]
     },
     "execution_count": 172,
     "metadata": {},
     "output_type": "execute_result"
    },
    {
     "data": {
      "image/png": "[encoded data removed]",
      "text/plain": [
       "<matplotlib.figure.Figure at 0x125784470>"
      ]
     },
     "metadata": {},
     "output_type": "display_data"
    }
   ],
   "source": [
    "plt.imshow(MAP10_RSV_all)"
   ]
  },
  {
   "cell_type": "markdown",
   "metadata": {},
   "source": [
    "Разницы по параметру k1 почти никакой, а вот b лучше взять в районе 0.7.  \n",
    "k1, в таком случае, лучше взять около 1.6: получим MAP@10 = 0.32721281828703724. Немного, да улучшили.\n",
    "\n",
    "Интуиция примерно такая: нулевое значение b соответсвует игнорированию длины документа, вот там и просела метрика.\n",
    "\n",
    "\n",
    ">Попробуйте нормировать RSV (q, d) на сумму IDF термов запроса.\n",
    "\n",
    "Можно, но это не изменит ничего, потому что все реллевантности просто будут домножены на одно и то же число в рамках одного запроса.\n",
    "\n",
    "А вот новый BM посчитать можно. В параметры добавляется k2:"
   ]
  },
  {
   "cell_type": "code",
   "execution_count": 195,
   "metadata": {
    "collapsed": false
   },
   "outputs": [],
   "source": [
    "RSV_k2_all = [CalcMap10(GetQueriesTopRsv(True, 0.75, 1.2, k2)) for k2 in np.logspace(-2, 3, 6)]"
   ]
  },
  {
   "cell_type": "code",
   "execution_count": 196,
   "metadata": {
    "collapsed": false
   },
   "outputs": [
    {
     "data": {
      "text/plain": [
       "[<matplotlib.lines.Line2D at 0x12578ddd8>]"
      ]
     },
     "execution_count": 196,
     "metadata": {},
     "output_type": "execute_result"
    },
    {
     "data": {
      "image/png": "[encoded data removed]",
      "text/plain": [
       "<matplotlib.figure.Figure at 0x12560e710>"
      ]
     },
     "metadata": {},
     "output_type": "display_data"
    }
   ],
   "source": [
    "plt.plot(np.logspace(-2, 3, 6), RSV_k2_all)"
   ]
  },
  {
   "cell_type": "markdown",
   "metadata": {},
   "source": [
    "Получается, что лучше передать сюда 0, тогда коэффициент k2 не учитывается. Видимо, я недопонял слайд лекции."
   ]
  },
  {
   "cell_type": "code",
   "execution_count": null,
   "metadata": {
    "collapsed": true
   },
   "outputs": [],
   "source": []
  }
 ],
 "metadata": {
  "anaconda-cloud": {},
  "kernelspec": {
   "display_name": "Python [Root]",
   "language": "python",
   "name": "Python [Root]"
  },
  "language_info": {
   "codemirror_mode": {
    "name": "ipython",
    "version": 3
   },
   "file_extension": ".py",
   "mimetype": "text/x-python",
   "name": "python",
   "nbconvert_exporter": "python",
   "pygments_lexer": "ipython3",
   "version": "3.5.2"
  }
 },
 "nbformat": 4,
 "nbformat_minor": 0
}
