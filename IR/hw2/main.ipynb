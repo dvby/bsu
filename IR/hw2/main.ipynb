{
 "cells": [
  {
   "cell_type": "markdown",
   "metadata": {},
   "source": [
    "<h2> Информационный поиск. HW2 </h2>\n",
    "<h2> Валерий Дужик </h2> \n",
    "\n",
    "Я сохранил вывод crawler'а в crawled.json, и теперь распаршу. Проиндексирую данные по каждому из урлов, чтобы в граф не попали ребра без вершин + чтобы каждый Node задавался просто урлом, а не всеми данными. \n"
   ]
  },
  {
   "cell_type": "code",
   "execution_count": 51,
   "metadata": {},
   "outputs": [
    {
     "data": {
      "text/plain": [
       "19959"
      ]
     },
     "execution_count": 51,
     "metadata": {},
     "output_type": "execute_result"
    }
   ],
   "source": [
    "import json\n",
    "data = []\n",
    "with open('crawled.json') as f:\n",
    "    content = f.read()\n",
    "    data = json.loads(content)\n",
    "    \n",
    "index = dict()\n",
    "for doc in data:\n",
    "    index[doc['url']] = {\n",
    "        'title' : doc['title'],\n",
    "        'snippet' : doc['snippet']\n",
    "    }\n",
    "\n",
    "len(index)"
   ]
  },
  {
   "cell_type": "markdown",
   "metadata": {},
   "source": [
    "Заиспользую networkx. Построю граф и расчитаю PR для всех страниц."
   ]
  },
  {
   "cell_type": "code",
   "execution_count": 52,
   "metadata": {
    "collapsed": true
   },
   "outputs": [],
   "source": [
    "import networkx as nx\n",
    "\n",
    "G=nx.Graph()\n",
    "for doc in data:\n",
    "    for link in doc['links']:\n",
    "        if link in index:\n",
    "            G.add_edge(doc['url'], link)\n",
    "            \n",
    "alphas = [0.3, 0.5, 0.85, 0.95]\n",
    "prs = { a : nx.pagerank(G, alpha=a, max_iter=1000) for a in alphas }"
   ]
  },
  {
   "cell_type": "markdown",
   "metadata": {},
   "source": [
    "Ну а теперь выведу результаты, и сравню их для разных значений параметра <i>alpha<i>"
   ]
  },
  {
   "cell_type": "code",
   "execution_count": 46,
   "metadata": {
    "collapsed": true
   },
   "outputs": [],
   "source": [
    "def get_top(pr, top):\n",
    "    docs = []\n",
    "    for url in pr:\n",
    "        docs.append((url, pr[url]))\n",
    "    docs.sort(key=lambda x : x[1], reverse=True)\n",
    "    return [ {\n",
    "        'PR' : doc[1],\n",
    "        'title' : index[doc[0]]['title'],\n",
    "        'url' : doc[0],\n",
    "        'snippet' : index[doc[0]]['snippet']\n",
    "    } for doc in docs[:top] ]\n",
    "\n",
    "def print_top(top):\n",
    "    for doc in top:\n",
    "        print(u'{} <{}>\\n{}\\n{}\\n'.format(doc['title'], doc['PR'], doc['url'], doc['snippet']))"
   ]
  },
  {
   "cell_type": "code",
   "execution_count": 47,
   "metadata": {},
   "outputs": [
    {
     "name": "stdout",
     "output_type": "stream",
     "text": [
      "Paul Egede <0.015986652222>\n",
      "https://fr.wikipedia.org/wiki/Paul_Egede\n",
      "Paul ou Poul Egede est un missionnaire danois né le 9 septembre 1708 à Kabelvåg, dans les îles Lofoten, et mort le 6 juin 1789 à Copenhague....\n",
      "\n",
      "Alexandra Grimal <0.0121599927777>\n",
      "https://fr.wikipedia.org/wiki/Alexandra_Grimal\n",
      "Alexandra Grimal, née le 28 mai 1980 au Caire, est une autrice-compositrice-interprète française de musique contemporaine. Saxophoniste et chanteuse, elle se produit dans des projets interdisciplinaires comme le théâtre et la danse contemporaine....\n",
      "\n",
      "Anselm Franz <0.0121599927777>\n",
      "https://en.wikipedia.org/wiki/Anselm_Franz\n",
      "Dr. Anselm Franz (January 21, 1900—November 18, 1994) was a pioneering Austrian jet engine engineer known for the development of the Jumo 004, the world's first mass-produced turbojet engine by Nazi Germany during World War II,[1] and his work on turbosha...\n",
      "\n",
      "Judy Chicago <0.0121599927777>\n",
      "https://fr.wikipedia.org/wiki/Judy_Chicago\n",
      "Judy Chicago (née Judy Cohen le 20 juillet 1939 à Chicago dans l'Illinois) est une artiste féministe américaine....\n",
      "\n",
      "Apennin central <0.0121599927777>\n",
      "https://fr.wikipedia.org/wiki/Apennin_central\n",
      "L'Apennin central est la subdivision de la chaîne des Apennins située au cœur de la péninsule en Italie centrale. Il est relié à l'Apennin septentrional dont il est séparé, au nord, par les cols de la Bocca Serriola et de la Bocca Trabaria, et à l'Apennin...\n",
      "\n",
      "Athabaskan languages <0.0121599927777>\n",
      "https://en.wikipedia.org/wiki/Athapascan_languages\n",
      "Athabaskan or Athabascan (also Dene, Athapascan, Athapaskan) is a large family of indigenous languages of North America, located in western North America in three groups of contiguous languages: Northern, Pacific Coast and Southern (or Apachean). Kari and...\n",
      "\n",
      "Agriculture biologique <0.0121599927777>\n",
      "https://fr.wikipedia.org/wiki/Agriculture_biologique\n",
      "L’agriculture biologique est une méthode de production agricole qui exclut le recours aux produits chimiques de synthèse, utilisés notamment par l'agriculture industrielle et intensive depuis le début du XXe siècle, les organismes génétiquement modifiés, ...\n",
      "\n",
      "Tierpark Hagenbeck <0.0121599927777>\n",
      "https://fr.wikipedia.org/wiki/Tierpark_Hagenbeck\n",
      "Le Tierpark Hagenbeck (anciennement Hagenbecks Tierpark) est un parc zoologique situé à Hambourg, dans le quartier de Stellingen, arrondissement de Hamburg-Eimsbüttel, fondé en 1907 par Carl Hagenbeck. Le parc zoologique tout comme l'aquarium tropical ouv...\n",
      "\n",
      "Sundyne <0.0121599927777>\n",
      "https://en.wikipedia.org/wiki/Sundyne\n",
      "Sundyne is the company’s common name and the brand name for its products and services....\n",
      "\n",
      "Christian Lacroix (première collection) <0.0121599927777>\n",
      "https://fr.wikipedia.org/wiki/Christian_Lacroix_(premi%C3%A8re_collection)\n",
      "La première collection de Christian Lacroix à son nom, composée d'une soixantaine de modèles, est présentée le 26 juillet 1987, année de l'ouverture de sa maison. D'inspirations multiculturelles et historique, celle-ci fait date dans l'histoire de la mode...\n",
      "\n"
     ]
    }
   ],
   "source": [
    "print_top(get_top(prs[0.85], 10))"
   ]
  },
  {
   "cell_type": "code",
   "execution_count": 48,
   "metadata": {},
   "outputs": [
    {
     "name": "stdout",
     "output_type": "stream",
     "text": [
      "Paul Egede <0.016457771812>\n",
      "https://fr.wikipedia.org/wiki/Paul_Egede\n",
      "Paul ou Poul Egede est un missionnaire danois né le 9 septembre 1708 à Kabelvåg, dans les îles Lofoten, et mort le 6 juin 1789 à Copenhague....\n",
      "\n",
      "Anselm Franz <0.0123955525726>\n",
      "https://en.wikipedia.org/wiki/Anselm_Franz\n",
      "Dr. Anselm Franz (January 21, 1900—November 18, 1994) was a pioneering Austrian jet engine engineer known for the development of the Jumo 004, the world's first mass-produced turbojet engine by Nazi Germany during World War II,[1] and his work on turbosha...\n",
      "\n",
      "Athabaskan languages <0.0123955525726>\n",
      "https://en.wikipedia.org/wiki/Athapascan_languages\n",
      "Athabaskan or Athabascan (also Dene, Athapascan, Athapaskan) is a large family of indigenous languages of North America, located in western North America in three groups of contiguous languages: Northern, Pacific Coast and Southern (or Apachean). Kari and...\n",
      "\n",
      "Agriculture biologique <0.0123955525726>\n",
      "https://fr.wikipedia.org/wiki/Agriculture_biologique\n",
      "L’agriculture biologique est une méthode de production agricole qui exclut le recours aux produits chimiques de synthèse, utilisés notamment par l'agriculture industrielle et intensive depuis le début du XXe siècle, les organismes génétiquement modifiés, ...\n",
      "\n",
      "Sundyne <0.0123955525726>\n",
      "https://en.wikipedia.org/wiki/Sundyne\n",
      "Sundyne is the company’s common name and the brand name for its products and services....\n",
      "\n",
      "William de Cambridge <0.0123955525726>\n",
      "https://fr.wikipedia.org/wiki/William_de_Cambridge\n",
      "Le prince William, duc de Cambridge, né le 21 juin 1982 au St. Mary's Hospital de Paddington à Londres, est un membre de la famille royale britannique. Fils aîné du prince Charles, prince de Galles, héritier du trône, et de Lady Diana Spencer, il est le p...\n",
      "\n",
      "Alexandra Grimal <0.0123955525726>\n",
      "https://fr.wikipedia.org/wiki/Alexandra_Grimal\n",
      "Alexandra Grimal, née le 28 mai 1980 au Caire, est une autrice-compositrice-interprète française de musique contemporaine. Saxophoniste et chanteuse, elle se produit dans des projets interdisciplinaires comme le théâtre et la danse contemporaine....\n",
      "\n",
      "Judy Chicago <0.0123955525726>\n",
      "https://fr.wikipedia.org/wiki/Judy_Chicago\n",
      "Judy Chicago (née Judy Cohen le 20 juillet 1939 à Chicago dans l'Illinois) est une artiste féministe américaine....\n",
      "\n",
      "Apennin central <0.0123955525726>\n",
      "https://fr.wikipedia.org/wiki/Apennin_central\n",
      "L'Apennin central est la subdivision de la chaîne des Apennins située au cœur de la péninsule en Italie centrale. Il est relié à l'Apennin septentrional dont il est séparé, au nord, par les cols de la Bocca Serriola et de la Bocca Trabaria, et à l'Apennin...\n",
      "\n",
      "Tierpark Hagenbeck <0.0123955525726>\n",
      "https://fr.wikipedia.org/wiki/Tierpark_Hagenbeck\n",
      "Le Tierpark Hagenbeck (anciennement Hagenbecks Tierpark) est un parc zoologique situé à Hambourg, dans le quartier de Stellingen, arrondissement de Hamburg-Eimsbüttel, fondé en 1907 par Carl Hagenbeck. Le parc zoologique tout comme l'aquarium tropical ouv...\n",
      "\n"
     ]
    }
   ],
   "source": [
    "print_top(get_top(prs[0.95], 10))"
   ]
  },
  {
   "cell_type": "code",
   "execution_count": 49,
   "metadata": {},
   "outputs": [
    {
     "name": "stdout",
     "output_type": "stream",
     "text": [
      "Paul Egede <0.0121803283333>\n",
      "https://fr.wikipedia.org/wiki/Paul_Egede\n",
      "Paul ou Poul Egede est un missionnaire danois né le 9 septembre 1708 à Kabelvåg, dans les îles Lofoten, et mort le 6 juin 1789 à Copenhague....\n",
      "\n",
      "Alexandra Grimal <0.0102568308333>\n",
      "https://fr.wikipedia.org/wiki/Alexandra_Grimal\n",
      "Alexandra Grimal, née le 28 mai 1980 au Caire, est une autrice-compositrice-interprète française de musique contemporaine. Saxophoniste et chanteuse, elle se produit dans des projets interdisciplinaires comme le théâtre et la danse contemporaine....\n",
      "\n",
      "Judy Chicago <0.0102568308333>\n",
      "https://fr.wikipedia.org/wiki/Judy_Chicago\n",
      "Judy Chicago (née Judy Cohen le 20 juillet 1939 à Chicago dans l'Illinois) est une artiste féministe américaine....\n",
      "\n",
      "Apennin central <0.0102568308333>\n",
      "https://fr.wikipedia.org/wiki/Apennin_central\n",
      "L'Apennin central est la subdivision de la chaîne des Apennins située au cœur de la péninsule en Italie centrale. Il est relié à l'Apennin septentrional dont il est séparé, au nord, par les cols de la Bocca Serriola et de la Bocca Trabaria, et à l'Apennin...\n",
      "\n",
      "Anselm Franz <0.0102568308333>\n",
      "https://en.wikipedia.org/wiki/Anselm_Franz\n",
      "Dr. Anselm Franz (January 21, 1900—November 18, 1994) was a pioneering Austrian jet engine engineer known for the development of the Jumo 004, the world's first mass-produced turbojet engine by Nazi Germany during World War II,[1] and his work on turbosha...\n",
      "\n",
      "Athabaskan languages <0.0102568308333>\n",
      "https://en.wikipedia.org/wiki/Athapascan_languages\n",
      "Athabaskan or Athabascan (also Dene, Athapascan, Athapaskan) is a large family of indigenous languages of North America, located in western North America in three groups of contiguous languages: Northern, Pacific Coast and Southern (or Apachean). Kari and...\n",
      "\n",
      "Agriculture biologique <0.0102568308333>\n",
      "https://fr.wikipedia.org/wiki/Agriculture_biologique\n",
      "L’agriculture biologique est une méthode de production agricole qui exclut le recours aux produits chimiques de synthèse, utilisés notamment par l'agriculture industrielle et intensive depuis le début du XXe siècle, les organismes génétiquement modifiés, ...\n",
      "\n",
      "Tierpark Hagenbeck <0.0102568308333>\n",
      "https://fr.wikipedia.org/wiki/Tierpark_Hagenbeck\n",
      "Le Tierpark Hagenbeck (anciennement Hagenbecks Tierpark) est un parc zoologique situé à Hambourg, dans le quartier de Stellingen, arrondissement de Hamburg-Eimsbüttel, fondé en 1907 par Carl Hagenbeck. Le parc zoologique tout comme l'aquarium tropical ouv...\n",
      "\n",
      "Sundyne <0.0102568308333>\n",
      "https://en.wikipedia.org/wiki/Sundyne\n",
      "Sundyne is the company’s common name and the brand name for its products and services....\n",
      "\n",
      "Christian Lacroix (première collection) <0.0102568308333>\n",
      "https://fr.wikipedia.org/wiki/Christian_Lacroix_(premi%C3%A8re_collection)\n",
      "La première collection de Christian Lacroix à son nom, composée d'une soixantaine de modèles, est présentée le 26 juillet 1987, année de l'ouverture de sa maison. D'inspirations multiculturelles et historique, celle-ci fait date dans l'histoire de la mode...\n",
      "\n"
     ]
    }
   ],
   "source": [
    "print_top(get_top(prs[0.3], 10))"
   ]
  },
  {
   "cell_type": "code",
   "execution_count": 50,
   "metadata": {},
   "outputs": [
    {
     "name": "stdout",
     "output_type": "stream",
     "text": [
      "Paul Egede <0.0138916015625>\n",
      "https://fr.wikipedia.org/wiki/Paul_Egede\n",
      "Paul ou Poul Egede est un missionnaire danois né le 9 septembre 1708 à Kabelvåg, dans les îles Lofoten, et mort le 6 juin 1789 à Copenhague....\n",
      "\n",
      "Alexandra Grimal <0.0111124674479>\n",
      "https://fr.wikipedia.org/wiki/Alexandra_Grimal\n",
      "Alexandra Grimal, née le 28 mai 1980 au Caire, est une autrice-compositrice-interprète française de musique contemporaine. Saxophoniste et chanteuse, elle se produit dans des projets interdisciplinaires comme le théâtre et la danse contemporaine....\n",
      "\n",
      "Judy Chicago <0.0111124674479>\n",
      "https://fr.wikipedia.org/wiki/Judy_Chicago\n",
      "Judy Chicago (née Judy Cohen le 20 juillet 1939 à Chicago dans l'Illinois) est une artiste féministe américaine....\n",
      "\n",
      "Apennin central <0.0111124674479>\n",
      "https://fr.wikipedia.org/wiki/Apennin_central\n",
      "L'Apennin central est la subdivision de la chaîne des Apennins située au cœur de la péninsule en Italie centrale. Il est relié à l'Apennin septentrional dont il est séparé, au nord, par les cols de la Bocca Serriola et de la Bocca Trabaria, et à l'Apennin...\n",
      "\n",
      "Anselm Franz <0.0111124674479>\n",
      "https://en.wikipedia.org/wiki/Anselm_Franz\n",
      "Dr. Anselm Franz (January 21, 1900—November 18, 1994) was a pioneering Austrian jet engine engineer known for the development of the Jumo 004, the world's first mass-produced turbojet engine by Nazi Germany during World War II,[1] and his work on turbosha...\n",
      "\n",
      "Athabaskan languages <0.0111124674479>\n",
      "https://en.wikipedia.org/wiki/Athapascan_languages\n",
      "Athabaskan or Athabascan (also Dene, Athapascan, Athapaskan) is a large family of indigenous languages of North America, located in western North America in three groups of contiguous languages: Northern, Pacific Coast and Southern (or Apachean). Kari and...\n",
      "\n",
      "Agriculture biologique <0.0111124674479>\n",
      "https://fr.wikipedia.org/wiki/Agriculture_biologique\n",
      "L’agriculture biologique est une méthode de production agricole qui exclut le recours aux produits chimiques de synthèse, utilisés notamment par l'agriculture industrielle et intensive depuis le début du XXe siècle, les organismes génétiquement modifiés, ...\n",
      "\n",
      "Tierpark Hagenbeck <0.0111124674479>\n",
      "https://fr.wikipedia.org/wiki/Tierpark_Hagenbeck\n",
      "Le Tierpark Hagenbeck (anciennement Hagenbecks Tierpark) est un parc zoologique situé à Hambourg, dans le quartier de Stellingen, arrondissement de Hamburg-Eimsbüttel, fondé en 1907 par Carl Hagenbeck. Le parc zoologique tout comme l'aquarium tropical ouv...\n",
      "\n",
      "Sundyne <0.0111124674479>\n",
      "https://en.wikipedia.org/wiki/Sundyne\n",
      "Sundyne is the company’s common name and the brand name for its products and services....\n",
      "\n",
      "Christian Lacroix (première collection) <0.0111124674479>\n",
      "https://fr.wikipedia.org/wiki/Christian_Lacroix_(premi%C3%A8re_collection)\n",
      "La première collection de Christian Lacroix à son nom, composée d'une soixantaine de modèles, est présentée le 26 juillet 1987, année de l'ouverture de sa maison. D'inspirations multiculturelles et historique, celle-ci fait date dans l'histoire de la mode...\n",
      "\n"
     ]
    }
   ],
   "source": [
    "print_top(get_top(prs[0.5], 10))"
   ]
  },
  {
   "cell_type": "markdown",
   "metadata": {},
   "source": [
    "Как видно, выдачи получились очень похожими.\n",
    "\n",
    "Забавно, что начинал я с урлов ['https://en.wikipedia.org/wiki/Minsk', 'https://en.wikipedia.org/wiki/San_Francisco', 'https://en.wikipedia.org/wiki/Hahn'], а закончил, по большей части, во французской вики :)"
   ]
  },
  {
   "cell_type": "code",
   "execution_count": null,
   "metadata": {
    "collapsed": true
   },
   "outputs": [],
   "source": []
  }
 ],
 "metadata": {
  "anaconda-cloud": {},
  "kernelspec": {
   "display_name": "Python 2",
   "language": "python",
   "name": "python2"
  },
  "language_info": {
   "codemirror_mode": {
    "name": "ipython",
    "version": 2
   },
   "file_extension": ".py",
   "mimetype": "text/x-python",
   "name": "python",
   "nbconvert_exporter": "python",
   "pygments_lexer": "ipython2",
   "version": "2.7.10"
  }
 },
 "nbformat": 4,
 "nbformat_minor": 1
}
