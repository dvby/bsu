{
 "cells": [
  {
   "cell_type": "markdown",
   "metadata": {},
   "source": [
    "<h2>Отчет по Лабоработной работе №3</h2>\n",
    " \n",
    "Параметры cache памяти (L3):\n",
    "12-way associative cache, 3MB\n",
    "line size 64B\n",
    "\n",
    "Это соответствует числу set'ов в $2^{12}$\n",
    "\n",
    "\n",
    "Не уверен, какие параметры компьютера интересуют, но пусть будут cледующие:\n",
    "\n",
    "- процессор Intel i5-4258U; \n",
    "- память 8GB\n",
    "\n",
    "**Грустное примечание** \n",
    "\n",
    "Мне было немного лениво качественно прописывать для класса NWaySet хранение данных в словарях, поскольку NWays = 12 - константа, и не такая уж и большая. Возможно из-за этого программа работает очень медленно."
   ]
  },
  {
   "cell_type": "code",
   "execution_count": 15,
   "metadata": {
    "collapsed": false
   },
   "outputs": [
    {
     "data": {
      "text/plain": [
       "[(1023, {'Block': 6803495.0, 'Simple': 66979775.0, 'Swapped': 66978816.0}),\n",
       " (1024, {'Block': 16436914.0, 'Simple': 1074826304.0, 'Swapped': 67174400.0}),\n",
       " (1025, {'Block': 6830120.0, 'Simple': 67373250.0, 'Swapped': 67372290.0}),\n",
       " (1028, {'Block': 6869867.0, 'Simple': 67965192.0, 'Swapped': 67964421.0}),\n",
       " (1031, {'Block': 6976746.0, 'Simple': 68562918.0, 'Swapped': 68561952.0}),\n",
       " (1034, {'Block': 7017319.0, 'Simple': 69162709.0, 'Swapped': 69161805.0}),\n",
       " (1040, {'Block': 7098000.0, 'Simple': 70371600.0, 'Swapped': 70371600.0}),\n",
       " (1041, {'Block': 7180461.0, 'Simple': 70576677.0, 'Swapped': 70575702.0}),\n",
       " (1050, {'Block': 7305060.0, 'Simple': 72422175.0, 'Swapped': 72421257.0}),\n",
       " (1100, {'Block': 8395200.0, 'Simple': 83263950.0, 'Swapped': 83263125.0})]"
      ]
     },
     "execution_count": 15,
     "metadata": {},
     "output_type": "execute_result"
    }
   ],
   "source": [
    "logs = \"\"\"n = 1023\n",
    "timeSimple: 66979775\n",
    "timeBlock: 6803495\n",
    "timeSwapped: 66978816\n",
    "n = 1024\n",
    "timeSimple: 1074826304\n",
    "timeBlock: 16436914\n",
    "timeSwapped: 67174400\n",
    "n = 1025\n",
    "timeSimple: 67373250\n",
    "timeBlock: 6830120\n",
    "timeSwapped: 67372290\n",
    "n = 1028\n",
    "timeSimple: 67965192\n",
    "timeBlock: 6869867\n",
    "timeSwapped: 67964421\n",
    "n = 1031\n",
    "timeSimple: 68562918\n",
    "timeBlock: 6976746\n",
    "timeSwapped: 68561952\n",
    "n = 1034\n",
    "timeSimple: 69162709\n",
    "timeBlock: 7017319\n",
    "timeSwapped: 69161805\n",
    "n = 1040\n",
    "timeSimple: 70371600\n",
    "timeBlock: 7098000\n",
    "timeSwapped: 70371600\n",
    "n = 1041\n",
    "timeSimple: 70576677\n",
    "timeBlock: 7180461\n",
    "timeSwapped: 70575702\n",
    "n = 1050\n",
    "timeSimple: 72422175\n",
    "timeBlock: 7305060\n",
    "timeSwapped: 72421257\n",
    "n = 1100\n",
    "timeSimple: 83263950\n",
    "timeBlock: 8395200\n",
    "timeSwapped: 83263125\"\"\"\n",
    "\n",
    "def parse_logs(): \n",
    "    results = list()\n",
    "    for line in logs.split('\\n'): \n",
    "        if 'n = ' in line:\n",
    "            n = int(line.split('=')[1].strip())\n",
    "            results.append((n, dict()))\n",
    "        else:\n",
    "            alg, misses = line.split(':')\n",
    "            results[-1][1][alg[4:]] = float(misses.strip())\n",
    "    return results\n",
    "\n",
    "results = parse_logs()\n",
    "results"
   ]
  },
  {
   "cell_type": "code",
   "execution_count": 16,
   "metadata": {
    "collapsed": false
   },
   "outputs": [
    {
     "data": {
      "image/png": "[encoded data removed]",
      "text/plain": [
       "<matplotlib.figure.Figure at 0x10d64ae10>"
      ]
     },
     "metadata": {},
     "output_type": "display_data"
    }
   ],
   "source": [
    "%matplotlib inline\n",
    "from matplotlib import pyplot\n",
    "\n",
    "def draw(results):\n",
    "    algos = results[0][1].keys() \n",
    "        \n",
    "    n_range = [result[0] for result in results]\n",
    "    time_ranges = [[result[1][alg] for result in results] for alg in algos]\n",
    "\n",
    "    ax = pyplot.figure(figsize=(17,5), dpi=100).add_subplot(111)  \n",
    "    for time_range in time_ranges:\n",
    "        ax.plot(n_range, time_range) \n",
    "    ax.legend(['{} alg'.format(alg) for alg in algos], loc='upper right')\n",
    "    pyplot.show()\n",
    "        \n",
    "\n",
    "draw(results)"
   ]
  },
  {
   "cell_type": "code",
   "execution_count": null,
   "metadata": {
    "collapsed": true
   },
   "outputs": [],
   "source": []
  }
 ],
 "metadata": {
  "kernelspec": {
   "display_name": "Python [Root]",
   "language": "python",
   "name": "Python [Root]"
  },
  "language_info": {
   "codemirror_mode": {
    "name": "ipython",
    "version": 3
   },
   "file_extension": ".py",
   "mimetype": "text/x-python",
   "name": "python",
   "nbconvert_exporter": "python",
   "pygments_lexer": "ipython3",
   "version": "3.5.2"
  }
 },
 "nbformat": 4,
 "nbformat_minor": 0
}
